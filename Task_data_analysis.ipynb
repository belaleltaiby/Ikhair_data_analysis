{
 "cells": [
  {
   "cell_type": "markdown",
   "metadata": {},
   "source": [
    "## Analyzing and segmenting the user and transactions data for the \"iKhair.net\""
   ]
  },
  {
   "attachments": {
    "image.png": {
     "image/png": "[encoded data removed]"
    }
   },
   "cell_type": "markdown",
   "metadata": {},
   "source": [
    "![image.png](attachment:image.png)"
   ]
  },
  {
   "cell_type": "markdown",
   "metadata": {},
   "source": [
    "##### Set Up and Import Libraries"
   ]
  },
  {
   "cell_type": "code",
   "execution_count": 63,
   "metadata": {},
   "outputs": [],
   "source": [
    "# Import required libraries\n",
    "import pandas as pd\n",
    "import numpy as np\n",
    "import matplotlib.pyplot as plt\n",
    "import seaborn as sns"
   ]
  },
  {
   "cell_type": "markdown",
   "metadata": {},
   "source": [
    "#### Load Data"
   ]
  },
  {
   "cell_type": "code",
   "execution_count": 64,
   "metadata": {},
   "outputs": [
    {
     "data": {
      "text/html": [
       "<div>\n",
       "<style scoped>\n",
       "    .dataframe tbody tr th:only-of-type {\n",
       "        vertical-align: middle;\n",
       "    }\n",
       "\n",
       "    .dataframe tbody tr th {\n",
       "        vertical-align: top;\n",
       "    }\n",
       "\n",
       "    .dataframe thead th {\n",
       "        text-align: right;\n",
       "    }\n",
       "</style>\n",
       "<table border=\"1\" class=\"dataframe\">\n",
       "  <thead>\n",
       "    <tr style=\"text-align: right;\">\n",
       "      <th></th>\n",
       "      <th>id</th>\n",
       "      <th>usagecounter</th>\n",
       "      <th>appver</th>\n",
       "      <th>datecreated</th>\n",
       "    </tr>\n",
       "  </thead>\n",
       "  <tbody>\n",
       "    <tr>\n",
       "      <th>0</th>\n",
       "      <td>123490514</td>\n",
       "      <td>0</td>\n",
       "      <td>0.0.0</td>\n",
       "      <td>2024-06-23 16:23:29</td>\n",
       "    </tr>\n",
       "    <tr>\n",
       "      <th>1</th>\n",
       "      <td>123490513</td>\n",
       "      <td>0</td>\n",
       "      <td>0.0.0</td>\n",
       "      <td>2024-06-23 15:13:08</td>\n",
       "    </tr>\n",
       "    <tr>\n",
       "      <th>2</th>\n",
       "      <td>123490512</td>\n",
       "      <td>0</td>\n",
       "      <td>0.0.0</td>\n",
       "      <td>2024-06-23 15:07:51</td>\n",
       "    </tr>\n",
       "    <tr>\n",
       "      <th>3</th>\n",
       "      <td>123490511</td>\n",
       "      <td>0</td>\n",
       "      <td>0.0.0</td>\n",
       "      <td>2024-06-23 14:38:41</td>\n",
       "    </tr>\n",
       "    <tr>\n",
       "      <th>4</th>\n",
       "      <td>123490510</td>\n",
       "      <td>0</td>\n",
       "      <td>0.0.0</td>\n",
       "      <td>2024-06-23 12:26:17</td>\n",
       "    </tr>\n",
       "  </tbody>\n",
       "</table>\n",
       "</div>"
      ],
      "text/plain": [
       "          id  usagecounter appver          datecreated\n",
       "0  123490514             0  0.0.0  2024-06-23 16:23:29\n",
       "1  123490513             0  0.0.0  2024-06-23 15:13:08\n",
       "2  123490512             0  0.0.0  2024-06-23 15:07:51\n",
       "3  123490511             0  0.0.0  2024-06-23 14:38:41\n",
       "4  123490510             0  0.0.0  2024-06-23 12:26:17"
      ]
     },
     "execution_count": 64,
     "metadata": {},
     "output_type": "execute_result"
    }
   ],
   "source": [
    "users_df = pd.read_csv(\"Users.csv\")  \n",
    "transactions_df = pd.read_csv(\"UsersTransactions.csv\")  \n",
    "\n",
    "\n",
    "users_df.head()\n"
   ]
  },
  {
   "cell_type": "code",
   "execution_count": 65,
   "metadata": {},
   "outputs": [
    {
     "data": {
      "text/html": [
       "<div>\n",
       "<style scoped>\n",
       "    .dataframe tbody tr th:only-of-type {\n",
       "        vertical-align: middle;\n",
       "    }\n",
       "\n",
       "    .dataframe tbody tr th {\n",
       "        vertical-align: top;\n",
       "    }\n",
       "\n",
       "    .dataframe thead th {\n",
       "        text-align: right;\n",
       "    }\n",
       "</style>\n",
       "<table border=\"1\" class=\"dataframe\">\n",
       "  <thead>\n",
       "    <tr style=\"text-align: right;\">\n",
       "      <th></th>\n",
       "      <th>id</th>\n",
       "      <th>userid</th>\n",
       "      <th>actid</th>\n",
       "      <th>orgid</th>\n",
       "      <th>amount</th>\n",
       "      <th>countryid</th>\n",
       "      <th>method</th>\n",
       "      <th>date</th>\n",
       "      <th>shortCode</th>\n",
       "      <th>projcetName</th>\n",
       "      <th>operator</th>\n",
       "    </tr>\n",
       "  </thead>\n",
       "  <tbody>\n",
       "    <tr>\n",
       "      <th>0</th>\n",
       "      <td>1213989</td>\n",
       "      <td>1041242</td>\n",
       "      <td>kid3lag</td>\n",
       "      <td>HAI_AE</td>\n",
       "      <td>20</td>\n",
       "      <td>AE</td>\n",
       "      <td>SMS</td>\n",
       "      <td>2021-01-01 07:57:10</td>\n",
       "      <td>6620.0</td>\n",
       "      <td>other</td>\n",
       "      <td>etisalat</td>\n",
       "    </tr>\n",
       "    <tr>\n",
       "      <th>1</th>\n",
       "      <td>1213990</td>\n",
       "      <td>1041242</td>\n",
       "      <td>kid3lag</td>\n",
       "      <td>HAI_AE</td>\n",
       "      <td>20</td>\n",
       "      <td>AE</td>\n",
       "      <td>SMS</td>\n",
       "      <td>2021-01-01 07:57:11</td>\n",
       "      <td>6620.0</td>\n",
       "      <td>other</td>\n",
       "      <td>etisalat</td>\n",
       "    </tr>\n",
       "    <tr>\n",
       "      <th>2</th>\n",
       "      <td>1213991</td>\n",
       "      <td>1041242</td>\n",
       "      <td>SadakaGriha</td>\n",
       "      <td>IHSAN_AE</td>\n",
       "      <td>5</td>\n",
       "      <td>AE</td>\n",
       "      <td>SMS</td>\n",
       "      <td>2021-01-01 07:58:48</td>\n",
       "      <td>2217.0</td>\n",
       "      <td>الصدقة الجارية</td>\n",
       "      <td>etisalat</td>\n",
       "    </tr>\n",
       "    <tr>\n",
       "      <th>3</th>\n",
       "      <td>1213992</td>\n",
       "      <td>1041242</td>\n",
       "      <td>SadakaGriha</td>\n",
       "      <td>IHSAN_AE</td>\n",
       "      <td>5</td>\n",
       "      <td>AE</td>\n",
       "      <td>SMS</td>\n",
       "      <td>2021-01-01 07:58:49</td>\n",
       "      <td>2217.0</td>\n",
       "      <td>الصدقة الجارية</td>\n",
       "      <td>etisalat</td>\n",
       "    </tr>\n",
       "    <tr>\n",
       "      <th>4</th>\n",
       "      <td>1213993</td>\n",
       "      <td>1041242</td>\n",
       "      <td>SadakaGriha</td>\n",
       "      <td>SHJC_AE</td>\n",
       "      <td>10</td>\n",
       "      <td>AE</td>\n",
       "      <td>SMS</td>\n",
       "      <td>2021-01-01 07:58:54</td>\n",
       "      <td>6210.0</td>\n",
       "      <td>غسيل الكلي</td>\n",
       "      <td>etisalat</td>\n",
       "    </tr>\n",
       "  </tbody>\n",
       "</table>\n",
       "</div>"
      ],
      "text/plain": [
       "        id   userid        actid     orgid  amount countryid method  \\\n",
       "0  1213989  1041242      kid3lag    HAI_AE      20        AE    SMS   \n",
       "1  1213990  1041242      kid3lag    HAI_AE      20        AE    SMS   \n",
       "2  1213991  1041242  SadakaGriha  IHSAN_AE       5        AE    SMS   \n",
       "3  1213992  1041242  SadakaGriha  IHSAN_AE       5        AE    SMS   \n",
       "4  1213993  1041242  SadakaGriha   SHJC_AE      10        AE    SMS   \n",
       "\n",
       "                  date  shortCode     projcetName  operator  \n",
       "0  2021-01-01 07:57:10     6620.0           other  etisalat  \n",
       "1  2021-01-01 07:57:11     6620.0           other  etisalat  \n",
       "2  2021-01-01 07:58:48     2217.0  الصدقة الجارية  etisalat  \n",
       "3  2021-01-01 07:58:49     2217.0  الصدقة الجارية  etisalat  \n",
       "4  2021-01-01 07:58:54     6210.0     غسيل الكلي   etisalat  "
      ]
     },
     "execution_count": 65,
     "metadata": {},
     "output_type": "execute_result"
    }
   ],
   "source": [
    "transactions_df.head()"
   ]
  },
  {
   "cell_type": "markdown",
   "metadata": {},
   "source": [
    "####  Unique Values and Value Counts"
   ]
  },
  {
   "cell_type": "code",
   "execution_count": 66,
   "metadata": {},
   "outputs": [
    {
     "name": "stdout",
     "output_type": "stream",
     "text": [
      "\n",
      "Unique values in actid:\n",
      "actid\n",
      "3elag          6019\n",
      "Water          4909\n",
      "tafregKorab    4733\n",
      "SadakaGriha    4335\n",
      "Sadaka3ama     4284\n",
      "               ... \n",
      "90624             1\n",
      "Khair             1\n",
      "90610             1\n",
      "700               1\n",
      "90686             1\n",
      "Name: count, Length: 109, dtype: int64\n",
      "\n",
      "Unique values in orgid:\n",
      "orgid\n",
      "HAI_AE         33348\n",
      "IHSAN_AE       27443\n",
      "AWQAFSH_AE     10874\n",
      "SHJC_AE         2783\n",
      "Aljalila_AE     2310\n",
      "FARAJ_AE        2290\n",
      "BKH_AE          1565\n",
      "DCA_AE          1493\n",
      "BIGHEART_AE      946\n",
      "UAQ_AE           880\n",
      "FUJ_AE           845\n",
      "AMAF2_AE         564\n",
      "FOCP_AE          497\n",
      "TAR_AE           415\n",
      "Quran_AE         395\n",
      "TAMKEN_AE        335\n",
      "MWISH_AE         155\n",
      "SCHS_AE          150\n",
      "RAS_AE           104\n",
      "RAH_AE            76\n",
      "PFCUAE_AE         57\n",
      "AMAF_AE           52\n",
      "8013              39\n",
      "sakr_AE           26\n",
      "DUCare_AE          1\n",
      "AWQAF_AE           1\n",
      "SUQ_AE             1\n",
      "Name: count, dtype: int64\n",
      "\n",
      "Unique values in countryid:\n",
      "countryid\n",
      "AE    88745\n",
      "OM       21\n",
      "Name: count, dtype: int64\n",
      "\n",
      "Unique values in method:\n",
      "method\n",
      "SMS     88748\n",
      "du         17\n",
      "Bank        1\n",
      "Name: count, dtype: int64\n",
      "\n",
      "Unique values in date:\n",
      "date\n",
      "2024-01-19 07:18:22    4\n",
      "2023-07-08 17:31:37    3\n",
      "2024-01-29 04:46:21    3\n",
      "2023-12-15 10:01:23    3\n",
      "2023-08-27 09:14:02    3\n",
      "                      ..\n",
      "2023-09-01 06:08:06    1\n",
      "2023-09-01 06:05:33    1\n",
      "2023-09-01 05:34:39    1\n",
      "2023-09-01 05:32:53    1\n",
      "2024-06-23 11:53:30    1\n",
      "Name: count, Length: 88290, dtype: int64\n",
      "\n",
      "Unique values in projcetName:\n",
      "projcetName\n",
      "other                                      19964\n",
      "وقف سقيا الماء                              3534\n",
      "الوقف الخيري                                3052\n",
      "تراحم من اجل غزة                            2958\n",
      "صدقة جارية                                  2429\n",
      "                                           ...  \n",
      "طفل13 عام                                      1\n",
      "طفل مصاب بعيب خلقي                             1\n",
      "إغاثة                                          1\n",
      "Distributing food during the holy month        1\n",
      "الحالة٥٢٢                                      1\n",
      "Name: count, Length: 491, dtype: int64\n",
      "\n",
      "Unique values in operator:\n",
      "operator\n",
      "إتصالات         52530\n",
      "دو               7706\n",
      "etisalat         4474\n",
      "du                283\n",
      "Omnia              26\n",
      "zain               19\n",
      "Carrier            17\n",
      "Blicnet             5\n",
      "ETISALAT            2\n",
      "etisalat |          2\n",
      "Name: count, dtype: int64\n"
     ]
    }
   ],
   "source": [
    "for col in transactions_df.select_dtypes(include='object').columns:\n",
    "    print(f\"\\nUnique values in {col}:\")\n",
    "    print(transactions_df[col].value_counts())"
   ]
  },
  {
   "cell_type": "markdown",
   "metadata": {},
   "source": [
    "#### Check data types"
   ]
  },
  {
   "cell_type": "code",
   "execution_count": 67,
   "metadata": {},
   "outputs": [
    {
     "name": "stdout",
     "output_type": "stream",
     "text": [
      "Users Data Info:\n",
      "<class 'pandas.core.frame.DataFrame'>\n",
      "RangeIndex: 80000 entries, 0 to 79999\n",
      "Data columns (total 4 columns):\n",
      " #   Column        Non-Null Count  Dtype \n",
      "---  ------        --------------  ----- \n",
      " 0   id            80000 non-null  int64 \n",
      " 1   usagecounter  80000 non-null  int64 \n",
      " 2   appver        80000 non-null  object\n",
      " 3   datecreated   80000 non-null  object\n",
      "dtypes: int64(2), object(2)\n",
      "memory usage: 2.4+ MB\n",
      "\n",
      "Transactions Data Info:\n",
      "<class 'pandas.core.frame.DataFrame'>\n",
      "RangeIndex: 88766 entries, 0 to 88765\n",
      "Data columns (total 11 columns):\n",
      " #   Column       Non-Null Count  Dtype  \n",
      "---  ------       --------------  -----  \n",
      " 0   id           88766 non-null  int64  \n",
      " 1   userid       88766 non-null  int64  \n",
      " 2   actid        61851 non-null  object \n",
      " 3   orgid        87645 non-null  object \n",
      " 4   amount       88766 non-null  int64  \n",
      " 5   countryid    88766 non-null  object \n",
      " 6   method       88766 non-null  object \n",
      " 7   date         88766 non-null  object \n",
      " 8   shortCode    88676 non-null  float64\n",
      " 9   projcetName  87955 non-null  object \n",
      " 10  operator     65064 non-null  object \n",
      "dtypes: float64(1), int64(3), object(7)\n",
      "memory usage: 7.4+ MB\n"
     ]
    }
   ],
   "source": [
    "print(\"Users Data Info:\")\n",
    "users_df.info()\n",
    "\n",
    "print(\"\\nTransactions Data Info:\")\n",
    "transactions_df.info()\n",
    "\n"
   ]
  },
  {
   "cell_type": "markdown",
   "metadata": {},
   "source": [
    "#### Check for missing values\n"
   ]
  },
  {
   "cell_type": "code",
   "execution_count": 68,
   "metadata": {},
   "outputs": [
    {
     "name": "stdout",
     "output_type": "stream",
     "text": [
      "\n",
      "Missing Values in Users Data:\n",
      "id              0\n",
      "usagecounter    0\n",
      "appver          0\n",
      "datecreated     0\n",
      "dtype: int64\n",
      "\n",
      "Missing Values in Transactions Data:\n",
      "id                 0\n",
      "userid             0\n",
      "actid          26915\n",
      "orgid           1121\n",
      "amount             0\n",
      "countryid          0\n",
      "method             0\n",
      "date               0\n",
      "shortCode         90\n",
      "projcetName      811\n",
      "operator       23702\n",
      "dtype: int64\n"
     ]
    }
   ],
   "source": [
    "print(\"\\nMissing Values in Users Data:\")\n",
    "print(users_df.isnull().sum())\n",
    "\n",
    "print(\"\\nMissing Values in Transactions Data:\")\n",
    "print(transactions_df.isnull().sum())"
   ]
  },
  {
   "cell_type": "markdown",
   "metadata": {},
   "source": [
    "#### Descriptive Statistics"
   ]
  },
  {
   "cell_type": "code",
   "execution_count": 69,
   "metadata": {},
   "outputs": [
    {
     "name": "stdout",
     "output_type": "stream",
     "text": [
      "Users Data Statistics:\n"
     ]
    },
    {
     "data": {
      "text/html": [
       "<div>\n",
       "<style scoped>\n",
       "    .dataframe tbody tr th:only-of-type {\n",
       "        vertical-align: middle;\n",
       "    }\n",
       "\n",
       "    .dataframe tbody tr th {\n",
       "        vertical-align: top;\n",
       "    }\n",
       "\n",
       "    .dataframe thead th {\n",
       "        text-align: right;\n",
       "    }\n",
       "</style>\n",
       "<table border=\"1\" class=\"dataframe\">\n",
       "  <thead>\n",
       "    <tr style=\"text-align: right;\">\n",
       "      <th></th>\n",
       "      <th>id</th>\n",
       "      <th>usagecounter</th>\n",
       "    </tr>\n",
       "  </thead>\n",
       "  <tbody>\n",
       "    <tr>\n",
       "      <th>count</th>\n",
       "      <td>8.000000e+04</td>\n",
       "      <td>8.000000e+04</td>\n",
       "    </tr>\n",
       "    <tr>\n",
       "      <th>mean</th>\n",
       "      <td>5.501345e+07</td>\n",
       "      <td>2.557377e+02</td>\n",
       "    </tr>\n",
       "    <tr>\n",
       "      <th>std</th>\n",
       "      <td>5.820662e+07</td>\n",
       "      <td>1.082727e+04</td>\n",
       "    </tr>\n",
       "    <tr>\n",
       "      <th>min</th>\n",
       "      <td>2.054000e+04</td>\n",
       "      <td>0.000000e+00</td>\n",
       "    </tr>\n",
       "    <tr>\n",
       "      <th>25%</th>\n",
       "      <td>1.052507e+06</td>\n",
       "      <td>1.000000e+00</td>\n",
       "    </tr>\n",
       "    <tr>\n",
       "      <th>50%</th>\n",
       "      <td>1.057541e+07</td>\n",
       "      <td>2.000000e+00</td>\n",
       "    </tr>\n",
       "    <tr>\n",
       "      <th>75%</th>\n",
       "      <td>1.234703e+08</td>\n",
       "      <td>1.000000e+01</td>\n",
       "    </tr>\n",
       "    <tr>\n",
       "      <th>max</th>\n",
       "      <td>1.234905e+08</td>\n",
       "      <td>2.622432e+06</td>\n",
       "    </tr>\n",
       "  </tbody>\n",
       "</table>\n",
       "</div>"
      ],
      "text/plain": [
       "                 id  usagecounter\n",
       "count  8.000000e+04  8.000000e+04\n",
       "mean   5.501345e+07  2.557377e+02\n",
       "std    5.820662e+07  1.082727e+04\n",
       "min    2.054000e+04  0.000000e+00\n",
       "25%    1.052507e+06  1.000000e+00\n",
       "50%    1.057541e+07  2.000000e+00\n",
       "75%    1.234703e+08  1.000000e+01\n",
       "max    1.234905e+08  2.622432e+06"
      ]
     },
     "metadata": {},
     "output_type": "display_data"
    },
    {
     "name": "stdout",
     "output_type": "stream",
     "text": [
      "\n",
      "Transactions Data Statistics:\n"
     ]
    },
    {
     "data": {
      "text/html": [
       "<div>\n",
       "<style scoped>\n",
       "    .dataframe tbody tr th:only-of-type {\n",
       "        vertical-align: middle;\n",
       "    }\n",
       "\n",
       "    .dataframe tbody tr th {\n",
       "        vertical-align: top;\n",
       "    }\n",
       "\n",
       "    .dataframe thead th {\n",
       "        text-align: right;\n",
       "    }\n",
       "</style>\n",
       "<table border=\"1\" class=\"dataframe\">\n",
       "  <thead>\n",
       "    <tr style=\"text-align: right;\">\n",
       "      <th></th>\n",
       "      <th>id</th>\n",
       "      <th>userid</th>\n",
       "      <th>amount</th>\n",
       "      <th>shortCode</th>\n",
       "    </tr>\n",
       "  </thead>\n",
       "  <tbody>\n",
       "    <tr>\n",
       "      <th>count</th>\n",
       "      <td>8.876600e+04</td>\n",
       "      <td>8.876600e+04</td>\n",
       "      <td>88766.000000</td>\n",
       "      <td>88676.000000</td>\n",
       "    </tr>\n",
       "    <tr>\n",
       "      <th>mean</th>\n",
       "      <td>8.249451e+06</td>\n",
       "      <td>7.732588e+07</td>\n",
       "      <td>31.549129</td>\n",
       "      <td>3497.970251</td>\n",
       "    </tr>\n",
       "    <tr>\n",
       "      <th>std</th>\n",
       "      <td>2.450441e+06</td>\n",
       "      <td>5.830644e+07</td>\n",
       "      <td>90.740091</td>\n",
       "      <td>2018.435841</td>\n",
       "    </tr>\n",
       "    <tr>\n",
       "      <th>min</th>\n",
       "      <td>1.213989e+06</td>\n",
       "      <td>0.000000e+00</td>\n",
       "      <td>0.000000</td>\n",
       "      <td>0.000000</td>\n",
       "    </tr>\n",
       "    <tr>\n",
       "      <th>25%</th>\n",
       "      <td>9.107527e+06</td>\n",
       "      <td>1.055039e+06</td>\n",
       "      <td>10.000000</td>\n",
       "      <td>2215.000000</td>\n",
       "    </tr>\n",
       "    <tr>\n",
       "      <th>50%</th>\n",
       "      <td>9.131560e+06</td>\n",
       "      <td>1.234693e+08</td>\n",
       "      <td>10.000000</td>\n",
       "      <td>2610.000000</td>\n",
       "    </tr>\n",
       "    <tr>\n",
       "      <th>75%</th>\n",
       "      <td>9.153751e+06</td>\n",
       "      <td>1.234832e+08</td>\n",
       "      <td>15.000000</td>\n",
       "      <td>4909.000000</td>\n",
       "    </tr>\n",
       "    <tr>\n",
       "      <th>max</th>\n",
       "      <td>9.176027e+06</td>\n",
       "      <td>1.234905e+08</td>\n",
       "      <td>1000.000000</td>\n",
       "      <td>261033.000000</td>\n",
       "    </tr>\n",
       "  </tbody>\n",
       "</table>\n",
       "</div>"
      ],
      "text/plain": [
       "                 id        userid        amount      shortCode\n",
       "count  8.876600e+04  8.876600e+04  88766.000000   88676.000000\n",
       "mean   8.249451e+06  7.732588e+07     31.549129    3497.970251\n",
       "std    2.450441e+06  5.830644e+07     90.740091    2018.435841\n",
       "min    1.213989e+06  0.000000e+00      0.000000       0.000000\n",
       "25%    9.107527e+06  1.055039e+06     10.000000    2215.000000\n",
       "50%    9.131560e+06  1.234693e+08     10.000000    2610.000000\n",
       "75%    9.153751e+06  1.234832e+08     15.000000    4909.000000\n",
       "max    9.176027e+06  1.234905e+08   1000.000000  261033.000000"
      ]
     },
     "metadata": {},
     "output_type": "display_data"
    }
   ],
   "source": [
    "print(\"Users Data Statistics:\")\n",
    "display(users_df.describe())\n",
    "\n",
    "print(\"\\nTransactions Data Statistics:\")\n",
    "display(transactions_df.describe())\n"
   ]
  },
  {
   "cell_type": "markdown",
   "metadata": {},
   "source": [
    "### Data Cleaning"
   ]
  },
  {
   "cell_type": "markdown",
   "metadata": {},
   "source": [
    "#### Unify the operator name"
   ]
  },
  {
   "cell_type": "code",
   "execution_count": 70,
   "metadata": {},
   "outputs": [
    {
     "name": "stdout",
     "output_type": "stream",
     "text": [
      "operator\n",
      "Etisalat    57008\n",
      "Du           7989\n",
      "Omnia          26\n",
      "Zain           19\n",
      "Carrier        17\n",
      "Blicnet         5\n",
      "Name: count, dtype: int64\n"
     ]
    }
   ],
   "source": [
    "operator_mapping = {\n",
    "    'إتصالات': 'Etisalat',\n",
    "    'etisalat': 'Etisalat',\n",
    "    'ETISALAT': 'Etisalat',\n",
    "    'etisalat |': 'Etisalat',\n",
    "    'دو': 'Du',\n",
    "    'du': 'Du',\n",
    "    'Carrier': 'Carrier',\n",
    "    'Omnia': 'Omnia',\n",
    "    'zain': 'Zain',\n",
    "    'Blicnet': 'Blicnet'\n",
    "}\n",
    "\n",
    "transactions_df['operator']=transactions_df['operator'].str.strip()\n",
    "transactions_df['operator'] = transactions_df['operator'].replace(operator_mapping)\n",
    "\n",
    "print(transactions_df['operator'].value_counts())\n"
   ]
  },
  {
   "cell_type": "markdown",
   "metadata": {},
   "source": [
    "#### Handling Duplicates"
   ]
  },
  {
   "cell_type": "code",
   "execution_count": null,
   "metadata": {},
   "outputs": [
    {
     "name": "stdout",
     "output_type": "stream",
     "text": [
      "Duplicates in user_df before removal: 0\n"
     ]
    }
   ],
   "source": [
    "# Check and remove duplicate rows in user_df\n",
    "print(\"Duplicates in user_df before removal:\", users_df.duplicated().sum())\n",
    "users_df = users_df.drop_duplicates()\n",
    "print(\"Duplicates in user_df after removal:\", users_df\n",
    "      .duplicated().sum())\n",
    "\n",
    "# Check and remove duplicate rows in transactions_df\n",
    "print(\"Duplicates in transactions_df before removal:\", transactions_df.duplicated().sum())\n",
    "transactions_df = transactions_df.drop_duplicates()\n",
    "print(\"Duplicates in transactions_df after removal:\", transactions_df.duplicated().sum())\n"
   ]
  },
  {
   "cell_type": "markdown",
   "metadata": {},
   "source": [
    "\n",
    "##### Handle Missing Values"
   ]
  },
  {
   "cell_type": "code",
   "execution_count": null,
   "metadata": {},
   "outputs": [],
   "source": [
    "transactions_df.fillna({\n",
    "    'operator': 'Not-Specified',\n",
    "    'actid': 'Unknown',\n",
    "    'orgid':'UnKnown',\n",
    "    'shortCode':-1.0,\n",
    "    'projcetName': 'غير معروف'\n",
    "}, inplace=True)\n",
    "\n",
    "\n",
    "\n",
    "print(transactions_df.isnull().sum())"
   ]
  },
  {
   "cell_type": "markdown",
   "metadata": {},
   "source": [
    "#### Handling Data Types"
   ]
  },
  {
   "cell_type": "code",
   "execution_count": null,
   "metadata": {},
   "outputs": [],
   "source": [
    "#convert dtypes for users df\n",
    "users_df['id'] = users_df['id'].astype('int32')\n",
    "users_df['usagecounter'] = users_df['usagecounter'].astype('int32')\n",
    "users_df['appver'] = users_df['appver'].astype('category')\n",
    "users_df['datecreated'] = pd.to_datetime(users_df['datecreated'])\n",
    "users_df.dtypes"
   ]
  },
  {
   "cell_type": "code",
   "execution_count": null,
   "metadata": {},
   "outputs": [],
   "source": [
    "#convert dtypes for transactions df\n",
    "transactions_df['actid'] = transactions_df['actid'].astype('category')\n",
    "transactions_df['orgid'] = transactions_df['orgid'].astype('category')\n",
    "transactions_df['countryid'] = transactions_df['countryid'].astype('category')\n",
    "transactions_df['method'] = transactions_df['method'].astype('category')\n",
    "transactions_df['projcetName'] = transactions_df['projcetName'].astype('category')\n",
    "transactions_df['operator'] = transactions_df['operator'].astype('category')\n",
    "transactions_df['id'] = transactions_df['id'].astype('int32')\n",
    "transactions_df['userid'] = transactions_df['userid'].astype('int32')\n",
    "transactions_df['amount'] = transactions_df['amount'].astype('int32')\n",
    "transactions_df['shortCode'] = transactions_df['shortCode'].astype('category')\n",
    "transactions_df['date'] = pd.to_datetime(transactions_df['date'])\n",
    "transactions_df.dtypes"
   ]
  },
  {
   "cell_type": "markdown",
   "metadata": {},
   "source": [
    "Join 2 DataFrames"
   ]
  },
  {
   "cell_type": "code",
   "execution_count": null,
   "metadata": {},
   "outputs": [],
   "source": [
    "merged_df = users_df.merge(transactions_df, left_on='id', right_on='userid', how='right')\n",
    "merged_df"
   ]
  },
  {
   "cell_type": "code",
   "execution_count": null,
   "metadata": {},
   "outputs": [],
   "source": [
    "merged_df.info()"
   ]
  },
  {
   "cell_type": "markdown",
   "metadata": {},
   "source": [
    "#### Users who made transactions "
   ]
  },
  {
   "cell_type": "code",
   "execution_count": null,
   "metadata": {},
   "outputs": [],
   "source": [
    "intersection = pd.merge(users_df, transactions_df, left_on='id',right_on='userid', how='inner')\n",
    "distinct_intersection = intersection.drop_duplicates(subset='userid')\n",
    "count_users_with_transactions = merged_df['userid'].drop_duplicates().count()\n",
    "print(f\"Number of users who made transactions: {count_users_with_transactions}\")\n"
   ]
  },
  {
   "cell_type": "markdown",
   "metadata": {},
   "source": [
    "#### Transaction count over time"
   ]
  },
  {
   "cell_type": "code",
   "execution_count": null,
   "metadata": {},
   "outputs": [],
   "source": [
    "print(\"Date range in 'datecreated':\", users_df['datecreated'].min(), \"to\", users_df['datecreated'].max())\n",
    "print(\"Date range in 'date':\", transactions_df['date'].min(), \"to\", transactions_df['date'].max())\n",
    "\n",
    "\n",
    "transactions_df['date'].value_counts().sort_index().plot(title=\"Transactions over Time\")\n",
    "plt.xlabel(\"Date\")\n",
    "plt.ylabel(\"Number of Transactions\")\n",
    "plt.show()"
   ]
  },
  {
   "cell_type": "markdown",
   "metadata": {},
   "source": [
    "#### Correlation Analysis"
   ]
  },
  {
   "cell_type": "code",
   "execution_count": null,
   "metadata": {},
   "outputs": [],
   "source": [
    "print(merged_df[['usagecounter', 'amount']].corr())"
   ]
  },
  {
   "cell_type": "markdown",
   "metadata": {},
   "source": [
    "The correlation of 1.0 between usagecounter and itself, and 1.0 for amount with itself, simply means that each variable is perfectly correlated with itself, which is always true.\n",
    "\n",
    "The -0.020801 correlation between usagecounter and amount is very close to zero. This indicates that there’s no meaningful relationship between usagecounter and amount. In other words, changes in usagecounter don’t have any clear effect on amount, and vice versa.\n",
    "\n",
    "\n",
    "\n",
    "\n",
    "\n",
    "\n"
   ]
  },
  {
   "cell_type": "markdown",
   "metadata": {},
   "source": [
    "#### Calculate Key Metrics per User"
   ]
  },
  {
   "cell_type": "code",
   "execution_count": null,
   "metadata": {},
   "outputs": [],
   "source": [
    "user_metrics = merged_df.groupby('userid').agg({\n",
    "    'amount': ['mean', 'sum'],  # Average and total transaction value\n",
    "    'date': ['count', lambda x: x.dt.day_name().mode()[0], lambda x: x.dt.hour.mode()[0]]  # Number of purchases, top day, peak hour\n",
    "}).reset_index()\n",
    "\n",
    "user_metrics.columns = ['user_id', 'avg_transaction_value', 'total_transaction_value', 'purchase_count', 'top_day', 'peak_hour']\n",
    "user_metrics\n"
   ]
  },
  {
   "cell_type": "markdown",
   "metadata": {},
   "source": [
    "#### Get top 10 donors by total transaction value"
   ]
  },
  {
   "cell_type": "code",
   "execution_count": null,
   "metadata": {},
   "outputs": [],
   "source": [
    "top_donors = user_metrics.nlargest(10, 'total_transaction_value')\n",
    "print(\"Top 10 Donors:\\n\", top_donors[['user_id', 'total_transaction_value']])"
   ]
  },
  {
   "cell_type": "markdown",
   "metadata": {},
   "source": [
    "#### User Segmentation Using Clustering based on Activity and Spending using K-means"
   ]
  },
  {
   "cell_type": "code",
   "execution_count": null,
   "metadata": {},
   "outputs": [],
   "source": [
    "from sklearn.preprocessing import StandardScaler\n",
    "from sklearn.cluster import KMeans\n",
    "\n",
    "features = user_metrics[['avg_transaction_value', 'purchase_count']]\n",
    "\n",
    "scaler = StandardScaler()\n",
    "features_scaled = scaler.fit_transform(features)\n",
    "\n",
    "kmeans = KMeans(n_clusters=3, random_state=42)  # Assuming 3 clusters\n",
    "user_metrics['segment'] = kmeans.fit_predict(features_scaled)\n",
    "\n",
    "segment_labels = {0: 'Low Spenders', 1: 'Moderate Spenders', 2: 'High Spenders'}\n",
    "user_metrics['segment_label'] = user_metrics['segment'].map(segment_labels)"
   ]
  },
  {
   "cell_type": "markdown",
   "metadata": {},
   "source": [
    "#### Analyze Segments "
   ]
  },
  {
   "cell_type": "code",
   "execution_count": null,
   "metadata": {},
   "outputs": [],
   "source": [
    "segment_analysis = user_metrics.groupby('segment_label').agg({\n",
    "    'avg_transaction_value': 'mean',\n",
    "    'purchase_count': 'mean',\n",
    "    'total_transaction_value': 'mean',\n",
    "    'top_day': lambda x: x.mode()[0],\n",
    "    'peak_hour': lambda x: x.mode()[0]\n",
    "}).reset_index()\n",
    "\n",
    "print(\"Segment Analysis:\\n\", segment_analysis)\n"
   ]
  },
  {
   "cell_type": "markdown",
   "metadata": {},
   "source": [
    "#### Visualize the Segments"
   ]
  },
  {
   "cell_type": "code",
   "execution_count": null,
   "metadata": {},
   "outputs": [],
   "source": [
    "import matplotlib.pyplot as plt\n",
    "import seaborn as sns\n",
    "\n",
    "plt.figure(figsize=(10, 6))\n",
    "sns.barplot(data=segment_analysis, x='segment_label', y='avg_transaction_value')\n",
    "plt.title(\"Average Transaction Value by Segment\")\n",
    "plt.show()\n",
    "\n",
    "plt.figure(figsize=(10, 6))\n",
    "sns.barplot(data=segment_analysis, x='segment_label', y='peak_hour')\n",
    "plt.title(\"Peak Purchase Hour by Segment\")\n",
    "plt.show()\n"
   ]
  },
  {
   "cell_type": "markdown",
   "metadata": {},
   "source": [
    "####  Top Day & Peak Hour"
   ]
  },
  {
   "cell_type": "code",
   "execution_count": null,
   "metadata": {},
   "outputs": [],
   "source": [
    "top_day = transactions_df['date'].dt.day_name().mode()[0]\n",
    "print(\"Top day for purchases:\", top_day)\n",
    "\n",
    "peak_hour = transactions_df['date'].dt.hour.mode()[0]\n",
    "print(\"Peak hour for purchases:\", peak_hour)\n"
   ]
  },
  {
   "cell_type": "markdown",
   "metadata": {},
   "source": [
    "### Lets Explore Customer Behavior More 🕸️"
   ]
  },
  {
   "cell_type": "markdown",
   "metadata": {},
   "source": [
    "#### Analyzing amount Distribution and High-Value Customers"
   ]
  },
  {
   "cell_type": "code",
   "execution_count": null,
   "metadata": {},
   "outputs": [],
   "source": [
    "plt.figure(figsize=(10, 5))\n",
    "sns.histplot(merged_df['amount'], bins=30, kde=True)\n",
    "plt.title(\"Distribution of Transaction Amounts\")\n",
    "plt.xlabel(\"Transaction Amount\")\n",
    "plt.ylabel(\"Frequency\")\n",
    "plt.show()\n",
    "\n",
    "# Identify high-value customers by the top 5% spenders\n",
    "high_value_threshold = merged_df['amount'].quantile(0.95)\n",
    "high_value_customers = merged_df[merged_df['amount'] >= high_value_threshold]\n",
    "print(\"Top 5% high-value customers:\\n\", high_value_customers[['userid', 'amount']].head(10))\n"
   ]
  },
  {
   "cell_type": "markdown",
   "metadata": {},
   "source": [
    "#### Purchasing Trends over Time"
   ]
  },
  {
   "cell_type": "code",
   "execution_count": null,
   "metadata": {},
   "outputs": [],
   "source": [
    "# Monthly transaction counts\n",
    "merged_df['month_year'] = merged_df['date'].dt.to_period('M')\n",
    "monthly_transactions = merged_df['month_year'].value_counts().sort_index()\n",
    "\n",
    "plt.figure(figsize=(12, 6))\n",
    "monthly_transactions.plot(kind='line')\n",
    "plt.title(\"Monthly Transaction Volume\")\n",
    "plt.xlabel(\"Month\")\n",
    "plt.ylabel(\"Number of Transactions\")\n",
    "plt.show()\n",
    "\n",
    "# Analyzing day of the week\n",
    "merged_df['day_of_week'] = merged_df['date'].dt.day_name()\n",
    "plt.figure(figsize=(10, 5))\n",
    "sns.countplot(data=merged_df, x='day_of_week', order=['Monday', 'Tuesday', 'Wednesday', 'Thursday', 'Friday', 'Saturday', 'Sunday'])\n",
    "plt.title(\"Transactions by Day of the Week\")\n",
    "plt.xlabel(\"Day of Week\")\n",
    "plt.ylabel(\"Transaction Count\")\n",
    "plt.show()\n"
   ]
  },
  {
   "cell_type": "markdown",
   "metadata": {},
   "source": [
    "#### Top Channels and Methods of Purchase"
   ]
  },
  {
   "cell_type": "code",
   "execution_count": null,
   "metadata": {},
   "outputs": [],
   "source": [
    "print(\"Transaction count by method:\\n\", transactions_df['method'].value_counts())\n",
    "\n",
    "plt.figure(figsize=(10, 5))\n",
    "sns.countplot(data= transactions_df, y='method', order= transactions_df['method'].value_counts().index)\n",
    "plt.title(\"Transaction Count by Method\")\n",
    "plt.xlabel(\"Count\")\n",
    "plt.ylabel(\"Method\")\n",
    "plt.show()\n",
    "\n",
    "# Top 5 project names and short codes\n",
    "top_projects =  transactions_df['projcetName'].value_counts().head(5)\n",
    "top_short_codes =  transactions_df['shortCode'].value_counts().head(5)\n",
    "print(\"Top 5 Project Names:\\n\", top_projects)\n",
    "print(\"Top 5 Short Codes:\\n\", top_short_codes)\n"
   ]
  },
  {
   "cell_type": "markdown",
   "metadata": {},
   "source": [
    "#### Peak Hour Analysis"
   ]
  },
  {
   "cell_type": "code",
   "execution_count": null,
   "metadata": {},
   "outputs": [],
   "source": [
    "transactions_df['hour'] = transactions_df['date'].dt.hour\n",
    "\n",
    "# Plot transaction count by hour\n",
    "plt.figure(figsize=(10, 5))\n",
    "sns.countplot(data=transactions_df, x='hour')\n",
    "plt.title(\"Transaction Count by Hour\")\n",
    "plt.xlabel(\"Hour of Day\")\n",
    "plt.ylabel(\"Transaction Count\")\n",
    "plt.show()\n"
   ]
  },
  {
   "cell_type": "markdown",
   "metadata": {},
   "source": [
    "#### Cross Analysis of countryid and operator"
   ]
  },
  {
   "cell_type": "code",
   "execution_count": null,
   "metadata": {},
   "outputs": [],
   "source": [
    "country_counts = merged_df['countryid'].value_counts().head(10)\n",
    "print(\"Top 10 Countries by Transaction Count:\\n\", country_counts)\n",
    "\n",
    "plt.figure(figsize=(12, 6))\n",
    "sns.countplot(data=merged_df[merged_df['countryid'].isin(country_counts.index)], y='countryid', hue='operator')\n",
    "plt.title(\"Transactions by Country and Operator\")\n",
    "plt.xlabel(\"Count\")\n",
    "plt.ylabel(\"Country\")\n",
    "\n",
    "plt.legend(title=\"Operator\", loc='lower right', bbox_to_anchor=(1, 0))\n",
    "\n",
    "plt.show()\n"
   ]
  },
  {
   "cell_type": "markdown",
   "metadata": {},
   "source": [
    "#### Top Operators for High-Value Transactions"
   ]
  },
  {
   "cell_type": "code",
   "execution_count": null,
   "metadata": {},
   "outputs": [],
   "source": [
    "high_value_threshold = transactions_df['amount'].quantile(0.95)\n",
    "high_value_transactions = transactions_df[transactions_df['amount'] >= high_value_threshold]\n",
    "\n",
    "# Count high-value transactions by operator\n",
    "high_value_by_operator = high_value_transactions['operator'].value_counts()\n",
    "print(\"High-value transaction counts by operator:\\n\", high_value_by_operator)\n",
    "\n",
    "# Plot high-value transaction counts by operator\n",
    "plt.figure(figsize=(12, 6))\n",
    "high_value_by_operator.plot(kind='barh', color='salmon')\n",
    "plt.title(\"High-Value Transactions by Operator\")\n",
    "plt.xlabel(\"Transaction Count\")\n",
    "plt.ylabel(\"Operator\")\n",
    "plt.show()\n"
   ]
  }
 ],
 "metadata": {
  "kernelspec": {
   "display_name": "Python 3 (ipykernel)",
   "language": "python",
   "name": "python3"
  },
  "language_info": {
   "codemirror_mode": {
    "name": "ipython",
    "version": 3
   },
   "file_extension": ".py",
   "mimetype": "text/x-python",
   "name": "python",
   "nbconvert_exporter": "python",
   "pygments_lexer": "ipython3",
   "version": "3.11.7"
  }
 },
 "nbformat": 4,
 "nbformat_minor": 4
}
